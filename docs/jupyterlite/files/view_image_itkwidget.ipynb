import piplite
await piplite.install('itkwidgets==1.0a5')
import itkwidgets as wd
import imageio.v2 as imageio
stent = imageio.imread('imageio:stent.npz')
view(stent, rotate=True)
