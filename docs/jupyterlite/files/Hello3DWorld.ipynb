{
  "metadata": {
    "kernelspec": {
      "name": "python",
      "display_name": "Python (Pyodide)",
      "language": "python"
    },
    "language_info": {
      "codemirror_mode": {
        "name": "python",
        "version": 3
      },
      "file_extension": ".py",
      "mimetype": "text/x-python",
      "name": "python",
      "nbconvert_exporter": "python",
      "pygments_lexer": "ipython3",
      "version": "3.8"
    }
  },
  "nbformat_minor": 5,
  "nbformat": 4,
  "cells": [
    {
      "cell_type": "code",
      "source": "import piplite\nawait piplite.install('itkwidgets==1.0a7')",
      "metadata": {
        "trusted": true
      },
      "execution_count": 2,
      "outputs": [],
      "id": "e95388a9-93a6-4e29-bf44-e57a5c5683ab"
    },
    {
      "cell_type": "code",
      "source": "from itkwidgets import view\nimport imageio.v2 as imageio",
      "metadata": {
        "trusted": true
      },
      "execution_count": 3,
      "outputs": [],
      "id": "c3c5eb6e"
    },
    {
      "cell_type": "code",
      "source": "stent = imageio.imread('imageio:stent.npz')",
      "metadata": {
        "trusted": true
      },
      "execution_count": 4,
      "outputs": [],
      "id": "1bc45207"
    },
    {
      "cell_type": "code",
      "source": "view(stent, rotate=True)",
      "metadata": {
        "trusted": true
      },
      "execution_count": 5,
      "outputs": [
        {
          "output_type": "display_data",
          "data": {
            "text/plain": "<IPython.core.display.Javascript object>",
            "application/javascript": "window.connectPlugin && window.connectPlugin(\"a6ced7ea-bef9-4520-b153-97c66176ecaa\")"
          },
          "metadata": {}
        },
        {
          "output_type": "display_data",
          "data": {
            "text/plain": "<IPython.core.display.HTML object>",
            "text/html": "<div id=\"2ee5ca4e-dfe7-41d6-b2bc-bd9959e0e2d6\"></div>"
          },
          "metadata": {}
        },
        {
          "execution_count": 5,
          "output_type": "execute_result",
          "data": {
            "text/plain": "<itkwidgets.viewer.Viewer at 0x28ba938>"
          },
          "metadata": {}
        }
      ],
      "id": "26582452"
    },
    {
      "cell_type": "code",
      "source": "",
      "metadata": {},
      "execution_count": null,
      "outputs": [],
      "id": "b1d6b0a1-3877-49a6-a157-2bb654965ce0"
    }
  ]
}
