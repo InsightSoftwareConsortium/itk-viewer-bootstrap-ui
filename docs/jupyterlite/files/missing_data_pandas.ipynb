{
  "metadata": {
    "language_info": {
      "codemirror_mode": {
        "name": "python",
        "version": 3
      },
      "file_extension": ".py",
      "mimetype": "text/x-python",
      "name": "python",
      "nbconvert_exporter": "python",
      "pygments_lexer": "ipython3",
      "version": "3.8"
    },
    "kernelspec": {
      "name": "python",
      "display_name": "Python (Pyodide)",
      "language": "python"
    }
  },
  "nbformat_minor": 4,
  "nbformat": 4,
  "cells": [
    {
      "cell_type": "markdown",
      "source": "# Dealing with missing data using pandas and numpy",
      "metadata": {}
    },
    {
      "cell_type": "code",
      "source": "import numpy as np\nimport piplite\npiplite.install(\"itkwidgets==1.0a5\")\npiplite.install(\"pandas\")\nimport matplotlib as mpl\nimport matplotlib.pyplot as plt\nimport pandas as pd",
      "metadata": {
        "trusted": true
      },
      "execution_count": 5,
      "outputs": []
    },
    {
      "cell_type": "code",
      "source": "from itkwidgets import view",
      "metadata": {
        "trusted": true
      },
      "execution_count": 6,
      "outputs": []
    },
    {
      "cell_type": "markdown",
      "source": "### Create manifold",
      "metadata": {}
    },
    {
      "cell_type": "code",
      "source": "def F(x, y):\n    return np.sin(np.sqrt(x ** 2 + y ** 2))\n\nx = np.linspace(-6, 6, 50)\ny = np.linspace(-6, 6, 50)\nz = F(x, y)\n\nN = np.size(x)\nM = np.zeros((N*N,3))\nnp.shape(M)",
      "metadata": {
        "trusted": true
      },
      "execution_count": 7,
      "outputs": [
        {
          "execution_count": 7,
          "output_type": "execute_result",
          "data": {
            "text/plain": "(2500, 3)"
          },
          "metadata": {}
        }
      ]
    },
    {
      "cell_type": "code",
      "source": "for i in range(0,np.size(x)):\n    for j in range(0,np.size(y)):\n        M[j*N+i,:]=[np.floor(100*x[i]), np.floor(100*y[j]), np.floor(100*np.sin(np.sqrt(x[i] ** 2 + y[j] ** 2)))]",
      "metadata": {
        "trusted": true
      },
      "execution_count": 8,
      "outputs": []
    },
    {
      "cell_type": "markdown",
      "source": "Produce missing data artificially",
      "metadata": {}
    },
    {
      "cell_type": "code",
      "source": "M[1224:1226,2]='NaN'\nM[560:563,2]='NaN'\nM[2434:2436,2]='NaN'\nM[130:132,2]='NaN'\nM[806:809,2]='NaN'\nM[1995:1997,2]='NaN'",
      "metadata": {
        "trusted": true
      },
      "execution_count": 9,
      "outputs": []
    },
    {
      "cell_type": "code",
      "source": "import random\nshapeM = np.shape(M)\nrandomlist = []\nfor i in range(0,5):\n    n = random.randint(0,shapeM[0]-3)\n    M[n:n+2,2]='NaN'\n    randomlist.append(n)\n\nprint(randomlist)",
      "metadata": {
        "trusted": true
      },
      "execution_count": 10,
      "outputs": [
        {
          "name": "stdout",
          "text": "[596, 2203, 1536, 911, 1076]\n",
          "output_type": "stream"
        }
      ]
    },
    {
      "cell_type": "markdown",
      "source": "### Point cloud with missing data",
      "metadata": {}
    },
    {
      "cell_type": "code",
      "source": "view(point_sets=M, rotate=True)",
      "metadata": {
        "trusted": true
      },
      "execution_count": 11,
      "outputs": [
        {
          "output_type": "display_data",
          "data": {
            "text/plain": "<IPython.core.display.Javascript object>",
            "application/javascript": "window.connectPlugin && window.connectPlugin(\"c0c0fc30-f537-4c06-b47d-8830ad8e6f99\")"
          },
          "metadata": {}
        },
        {
          "output_type": "display_data",
          "data": {
            "text/plain": "<IPython.core.display.HTML object>",
            "text/html": "<div id=\"e86c2e5a-bf42-47b5-9187-e824ff8d3eaa\"></div>"
          },
          "metadata": {}
        },
        {
          "execution_count": 11,
          "output_type": "execute_result",
          "data": {
            "text/plain": "<itkwidgets.viewer.Viewer at 0x4643a98>"
          },
          "metadata": {}
        }
      ]
    },
    {
      "cell_type": "code",
      "source": "df = pd.DataFrame(M)",
      "metadata": {
        "trusted": true
      },
      "execution_count": 584,
      "outputs": []
    },
    {
      "cell_type": "code",
      "source": "M[559:567,:]",
      "metadata": {
        "trusted": true
      },
      "execution_count": 585,
      "outputs": [
        {
          "execution_count": 585,
          "output_type": "execute_result",
          "data": {
            "text/plain": "array([[-380., -331.,  -95.],\n       [-356., -331.,   nan],\n       [-331., -331.,   nan],\n       [-307., -331.,   nan],\n       [-282., -331.,  -94.],\n       [-258., -331.,  -87.],\n       [-233., -331.,  -79.],\n       [-209., -331.,  -70.]])"
          },
          "metadata": {}
        }
      ]
    },
    {
      "cell_type": "code",
      "source": "z_new = df[2].interpolate(method='polynomial', order=2)\nz_array = df_new.to_numpy()\nM_recovered = M\n#M_recovered[:,2] = z_array\n#M_recovered[559:567,:]",
      "metadata": {
        "trusted": true
      },
      "execution_count": 586,
      "outputs": []
    },
    {
      "cell_type": "markdown",
      "source": "### Point cloud with \"recovered\" data",
      "metadata": {}
    },
    {
      "cell_type": "code",
      "source": "view(point_sets=M_recovered, rotate=True)",
      "metadata": {
        "trusted": true
      },
      "execution_count": 587,
      "outputs": [
        {
          "output_type": "display_data",
          "data": {
            "text/plain": "<IPython.core.display.Javascript object>",
            "application/javascript": "window.connectPlugin && window.connectPlugin(\"964f025a-a99a-4f40-9cae-a1d5386962f4\")"
          },
          "metadata": {}
        },
        {
          "output_type": "display_data",
          "data": {
            "text/plain": "<IPython.core.display.HTML object>",
            "text/html": "<div id=\"409b33f2-e9dc-4731-bffa-1a79a4bfbeae\"></div>"
          },
          "metadata": {}
        },
        {
          "execution_count": 587,
          "output_type": "execute_result",
          "data": {
            "text/plain": "<itkwidgets.viewer.Viewer at 0xe693548>"
          },
          "metadata": {}
        }
      ]
    },
    {
      "cell_type": "code",
      "source": "",
      "metadata": {},
      "execution_count": null,
      "outputs": []
    },
    {
      "cell_type": "code",
      "source": "",
      "metadata": {},
      "execution_count": null,
      "outputs": []
    }
  ]
}