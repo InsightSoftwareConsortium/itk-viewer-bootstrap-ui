{
  "metadata": {
    "kernelspec": {
      "name": "python",
      "display_name": "Python (Pyodide)",
      "language": "python"
    },
    "language_info": {
      "codemirror_mode": {
        "name": "python",
        "version": 3
      },
      "file_extension": ".py",
      "mimetype": "text/x-python",
      "name": "python",
      "nbconvert_exporter": "python",
      "pygments_lexer": "ipython3",
      "version": "3.8"
    }
  },
  "nbformat_minor": 4,
  "nbformat": 4,
  "cells": [
    {
      "cell_type": "markdown",
      "source": "\n# Scientific images from Skimage\n\nThis is an adaptation of the example originally published [here](https://scikit-image.org/docs/stable/auto_examples/data/plot_scientific.html#sphx-glr-download-auto-examples-data-plot-scientific-py).",
      "metadata": {}
    },
    {
      "cell_type": "code",
      "source": "import piplite\n\nawait piplite.install(\"itkwidgets==1.0a7\")\nawait piplite.install(\"skimage==0.19.2\")\nawait piplite.install(\"pooch>=1.3.0\")",
      "metadata": {
        "collapsed": false,
        "jupyter": {
          "outputs_hidden": false
        },
        "trusted": true
      },
      "execution_count": 11,
      "outputs": [
        {
          "execution_count": 11,
          "output_type": "execute_result",
          "data": {
            "text/plain": "<Task pending name='Task-76' coro=<_PackageManager.install() running at /lib/python3.10/site-packages/piplite/piplite.py:76>>"
          },
          "metadata": {}
        }
      ]
    },
    {
      "cell_type": "code",
      "source": "import matplotlib.pyplot as plt\nimport matplotlib\nfrom skimage import data\nfrom itkwidgets import view",
      "metadata": {
        "collapsed": false,
        "jupyter": {
          "outputs_hidden": false
        },
        "trusted": true
      },
      "execution_count": 12,
      "outputs": [
        {
          "ename": "<class 'ModuleNotFoundError'>",
          "evalue": "No module named 'itkwidgets'",
          "traceback": [
            "\u001b[0;31m---------------------------------------------------------------------------\u001b[0m",
            "\u001b[0;31mModuleNotFoundError\u001b[0m                       Traceback (most recent call last)",
            "Input \u001b[0;32mIn [12]\u001b[0m, in \u001b[0;36m<cell line: 4>\u001b[0;34m()\u001b[0m\n\u001b[1;32m      2\u001b[0m \u001b[38;5;28;01mimport\u001b[39;00m \u001b[38;5;21;01mmatplotlib\u001b[39;00m\n\u001b[1;32m      3\u001b[0m \u001b[38;5;28;01mfrom\u001b[39;00m \u001b[38;5;21;01mskimage\u001b[39;00m \u001b[38;5;28;01mimport\u001b[39;00m data\n\u001b[0;32m----> 4\u001b[0m \u001b[38;5;28;01mfrom\u001b[39;00m \u001b[38;5;21;01mitkwidgets\u001b[39;00m \u001b[38;5;28;01mimport\u001b[39;00m view\n",
            "\u001b[0;31mModuleNotFoundError\u001b[0m: No module named 'itkwidgets'"
          ],
          "output_type": "error"
        }
      ]
    },
    {
      "cell_type": "code",
      "source": "caller = getattr(data, 'cell')\nimage = caller()\nview(image)",
      "metadata": {
        "trusted": true
      },
      "execution_count": 13,
      "outputs": [
        {
          "name": "stderr",
          "text": "Task exception was never retrieved\nfuture: <Task finished name='Task-65' coro=<_PackageManager.install() done, defined at /lib/python3.10/site-packages/piplite/piplite.py:76> exception=ValueError(\"Couldn't find a pure Python 3 wheel for 'itkwidgets==1.0a6'. You can use `micropip.install(..., keep_going=True)` to get a list of all packages with missing wheels.\")>\nTask exception was never retrieved\nfuture: <Task finished name='Task-66' coro=<_PackageManager.install() done, defined at /lib/python3.10/site-packages/piplite/piplite.py:76> exception=ValueError(\"Couldn't find a pure Python 3 wheel for 'skimage==0.19.2'. You can use `micropip.install(..., keep_going=True)` to get a list of all packages with missing wheels.\")>\nTask exception was never retrieved\nfuture: <Task finished name='Task-74' coro=<_PackageManager.install() done, defined at /lib/python3.10/site-packages/piplite/piplite.py:76> exception=ValueError(\"Couldn't find a pure Python 3 wheel for 'itkwidgets==1.0a6'. You can use `micropip.install(..., keep_going=True)` to get a list of all packages with missing wheels.\")>\nTask exception was never retrieved\nfuture: <Task finished name='Task-75' coro=<_PackageManager.install() done, defined at /lib/python3.10/site-packages/piplite/piplite.py:76> exception=ValueError(\"Couldn't find a pure Python 3 wheel for 'skimage==0.19.2'. You can use `micropip.install(..., keep_going=True)` to get a list of all packages with missing wheels.\")>\n",
          "output_type": "stream"
        },
        {
          "ename": "<class 'NameError'>",
          "evalue": "name 'view' is not defined",
          "traceback": [
            "\u001b[0;31m---------------------------------------------------------------------------\u001b[0m",
            "\u001b[0;31mNameError\u001b[0m                                 Traceback (most recent call last)",
            "Input \u001b[0;32mIn [13]\u001b[0m, in \u001b[0;36m<cell line: 3>\u001b[0;34m()\u001b[0m\n\u001b[1;32m      1\u001b[0m caller \u001b[38;5;241m=\u001b[39m \u001b[38;5;28mgetattr\u001b[39m(data, \u001b[38;5;124m'\u001b[39m\u001b[38;5;124mcell\u001b[39m\u001b[38;5;124m'\u001b[39m)\n\u001b[1;32m      2\u001b[0m image \u001b[38;5;241m=\u001b[39m caller()\n\u001b[0;32m----> 3\u001b[0m \u001b[43mview\u001b[49m(image)\n",
            "\u001b[0;31mNameError\u001b[0m: name 'view' is not defined"
          ],
          "output_type": "error"
        }
      ]
    },
    {
      "cell_type": "code",
      "source": "caller = getattr(data,'immunohistochemistry')\nimage = caller()\nview(image)",
      "metadata": {
        "trusted": true
      },
      "execution_count": 33,
      "outputs": [
        {
          "output_type": "display_data",
          "data": {
            "text/plain": "<IPython.core.display.Javascript object>",
            "application/javascript": "window.connectPlugin && window.connectPlugin(\"78ef5f26-8bad-467f-b421-312e5a3ee098\")"
          },
          "metadata": {}
        },
        {
          "output_type": "display_data",
          "data": {
            "text/plain": "<IPython.core.display.HTML object>",
            "text/html": "<div id=\"2b2497f7-13df-4086-8e00-b40af85d2201\"></div>"
          },
          "metadata": {}
        },
        {
          "execution_count": 33,
          "output_type": "execute_result",
          "data": {
            "text/plain": "<itkwidgets.viewer.Viewer at 0x54f32f8>"
          },
          "metadata": {}
        }
      ]
    },
    {
      "cell_type": "code",
      "source": "caller = getattr(data,'microaneurysms')\nimage = caller()\nview(image)",
      "metadata": {
        "trusted": true
      },
      "execution_count": 35,
      "outputs": [
        {
          "output_type": "display_data",
          "data": {
            "text/plain": "<IPython.core.display.Javascript object>",
            "application/javascript": "window.connectPlugin && window.connectPlugin(\"78ef5f26-8bad-467f-b421-312e5a3ee098\")"
          },
          "metadata": {}
        },
        {
          "output_type": "display_data",
          "data": {
            "text/plain": "<IPython.core.display.HTML object>",
            "text/html": "<div id=\"e00b3f10-4537-4694-9703-a343bc9fe6d5\"></div>"
          },
          "metadata": {}
        },
        {
          "execution_count": 35,
          "output_type": "execute_result",
          "data": {
            "text/plain": "<itkwidgets.viewer.Viewer at 0x5561170>"
          },
          "metadata": {}
        }
      ]
    },
    {
      "cell_type": "code",
      "source": "caller = getattr(data,'moon')\nimage = caller()\nview(image)",
      "metadata": {
        "trusted": true
      },
      "execution_count": 36,
      "outputs": [
        {
          "output_type": "display_data",
          "data": {
            "text/plain": "<IPython.core.display.Javascript object>",
            "application/javascript": "window.connectPlugin && window.connectPlugin(\"78ef5f26-8bad-467f-b421-312e5a3ee098\")"
          },
          "metadata": {}
        },
        {
          "output_type": "display_data",
          "data": {
            "text/plain": "<IPython.core.display.HTML object>",
            "text/html": "<div id=\"5b05e48f-19a7-473f-a659-e0922b6e0e21\"></div>"
          },
          "metadata": {}
        },
        {
          "execution_count": 36,
          "output_type": "execute_result",
          "data": {
            "text/plain": "<itkwidgets.viewer.Viewer at 0x40a8920>"
          },
          "metadata": {}
        }
      ]
    },
    {
      "cell_type": "code",
      "source": "caller = getattr(data,'shepp_logan_phantom')\nimage = caller()\nview(image)",
      "metadata": {
        "trusted": true
      },
      "execution_count": 38,
      "outputs": [
        {
          "output_type": "display_data",
          "data": {
            "text/plain": "<IPython.core.display.Javascript object>",
            "application/javascript": "window.connectPlugin && window.connectPlugin(\"78ef5f26-8bad-467f-b421-312e5a3ee098\")"
          },
          "metadata": {}
        },
        {
          "output_type": "display_data",
          "data": {
            "text/plain": "<IPython.core.display.HTML object>",
            "text/html": "<div id=\"11400c9b-60f2-4aed-b13c-1c0148e0ba3f\"></div>"
          },
          "metadata": {}
        },
        {
          "execution_count": 38,
          "output_type": "execute_result",
          "data": {
            "text/plain": "<itkwidgets.viewer.Viewer at 0x4f86d60>"
          },
          "metadata": {}
        }
      ]
    },
    {
      "cell_type": "code",
      "source": "",
      "metadata": {},
      "execution_count": null,
      "outputs": []
    }
  ]
}
