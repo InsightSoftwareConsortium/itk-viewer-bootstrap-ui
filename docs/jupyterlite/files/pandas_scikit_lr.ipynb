{
  "metadata": {
    "language_info": {
      "codemirror_mode": {
        "name": "python",
        "version": 3
      },
      "file_extension": ".py",
      "mimetype": "text/x-python",
      "name": "python",
      "nbconvert_exporter": "python",
      "pygments_lexer": "ipython3",
      "version": "3.8"
    },
    "kernelspec": {
      "name": "python",
      "display_name": "Python (Pyodide)",
      "language": "python"
    }
  },
  "nbformat_minor": 4,
  "nbformat": 4,
  "cells": [
    {
      "cell_type": "markdown",
      "source": "# Logistic Regression using Scikit-Learn and Pandas.\n",
      "metadata": {}
    },
    {
      "cell_type": "markdown",
      "source": "Based on https://stackabuse.com/classification-in-python-with-scikit-learn-and-pandas/\n\nThe data is concerning coronary heart disease (CHD) in South Africa.",
      "metadata": {}
    },
    {
      "cell_type": "code",
      "source": "import piplite\npiplite.install(\"sklearn\")\npiplite.install(\"pandas\")",
      "metadata": {
        "trusted": true
      },
      "execution_count": 2,
      "outputs": [
        {
          "execution_count": 2,
          "output_type": "execute_result",
          "data": {
            "text/plain": "<Task pending name='Task-39' coro=<_PackageManager.install() running at /lib/python3.10/site-packages/piplite/piplite.py:76>>"
          },
          "metadata": {}
        }
      ]
    },
    {
      "cell_type": "code",
      "source": "import sklearn as sk\nimport pandas as pd\nimport numpy as np\nfrom sklearn.linear_model import LogisticRegression",
      "metadata": {
        "trusted": true
      },
      "execution_count": 4,
      "outputs": []
    },
    {
      "cell_type": "code",
      "source": "col_types = {'row.names': np.int64,'sbp': np.int64,'tobacco': np.float64,'ldl': np.float64,'adiposity': np.float64,'famhist': str,'typea': np.int64,'obesity': np.float64,'alcohol': np.float64,'age': np.int64,'chd':bool}\nheart = pd.read_csv('SAHeart.csv', sep=',', header=0, dtype=col_types)\nheart['famhist']= heart['famhist'].map({'Present': True, 'Absent': False})\n\nheart.head()",
      "metadata": {
        "trusted": true
      },
      "execution_count": 5,
      "outputs": [
        {
          "execution_count": 5,
          "output_type": "execute_result",
          "data": {
            "text/plain": "   row.names  sbp  tobacco   ldl  adiposity  famhist  typea  obesity  alcohol  \\\n0          1  160    12.00  5.73      23.11     True     49    25.30    97.20   \n1          2  144     0.01  4.41      28.61    False     55    28.87     2.06   \n2          3  118     0.08  3.48      32.28     True     52    29.14     3.81   \n3          4  170     7.50  6.41      38.03     True     51    31.99    24.26   \n4          5  134    13.60  3.50      27.78     True     60    25.99    57.34   \n\n   age    chd  \n0   52   True  \n1   63   True  \n2   46  False  \n3   58   True  \n4   49   True  ",
            "text/html": "<div>\n<style scoped>\n    .dataframe tbody tr th:only-of-type {\n        vertical-align: middle;\n    }\n\n    .dataframe tbody tr th {\n        vertical-align: top;\n    }\n\n    .dataframe thead th {\n        text-align: right;\n    }\n</style>\n<table border=\"1\" class=\"dataframe\">\n  <thead>\n    <tr style=\"text-align: right;\">\n      <th></th>\n      <th>row.names</th>\n      <th>sbp</th>\n      <th>tobacco</th>\n      <th>ldl</th>\n      <th>adiposity</th>\n      <th>famhist</th>\n      <th>typea</th>\n      <th>obesity</th>\n      <th>alcohol</th>\n      <th>age</th>\n      <th>chd</th>\n    </tr>\n  </thead>\n  <tbody>\n    <tr>\n      <th>0</th>\n      <td>1</td>\n      <td>160</td>\n      <td>12.00</td>\n      <td>5.73</td>\n      <td>23.11</td>\n      <td>True</td>\n      <td>49</td>\n      <td>25.30</td>\n      <td>97.20</td>\n      <td>52</td>\n      <td>True</td>\n    </tr>\n    <tr>\n      <th>1</th>\n      <td>2</td>\n      <td>144</td>\n      <td>0.01</td>\n      <td>4.41</td>\n      <td>28.61</td>\n      <td>False</td>\n      <td>55</td>\n      <td>28.87</td>\n      <td>2.06</td>\n      <td>63</td>\n      <td>True</td>\n    </tr>\n    <tr>\n      <th>2</th>\n      <td>3</td>\n      <td>118</td>\n      <td>0.08</td>\n      <td>3.48</td>\n      <td>32.28</td>\n      <td>True</td>\n      <td>52</td>\n      <td>29.14</td>\n      <td>3.81</td>\n      <td>46</td>\n      <td>False</td>\n    </tr>\n    <tr>\n      <th>3</th>\n      <td>4</td>\n      <td>170</td>\n      <td>7.50</td>\n      <td>6.41</td>\n      <td>38.03</td>\n      <td>True</td>\n      <td>51</td>\n      <td>31.99</td>\n      <td>24.26</td>\n      <td>58</td>\n      <td>True</td>\n    </tr>\n    <tr>\n      <th>4</th>\n      <td>5</td>\n      <td>134</td>\n      <td>13.60</td>\n      <td>3.50</td>\n      <td>27.78</td>\n      <td>True</td>\n      <td>60</td>\n      <td>25.99</td>\n      <td>57.34</td>\n      <td>49</td>\n      <td>True</td>\n    </tr>\n  </tbody>\n</table>\n</div>"
          },
          "metadata": {}
        }
      ]
    },
    {
      "cell_type": "code",
      "source": "y = heart.iloc[:,9]",
      "metadata": {
        "trusted": true
      },
      "execution_count": 6,
      "outputs": []
    },
    {
      "cell_type": "code",
      "source": "y",
      "metadata": {
        "trusted": true
      },
      "execution_count": 7,
      "outputs": [
        {
          "execution_count": 7,
          "output_type": "execute_result",
          "data": {
            "text/plain": "0      52\n1      63\n2      46\n3      58\n4      49\n       ..\n457    58\n458    52\n459    55\n460    40\n461    46\nName: age, Length: 462, dtype: int64"
          },
          "metadata": {}
        }
      ]
    },
    {
      "cell_type": "code",
      "source": "X = heart.iloc[:,:9]",
      "metadata": {
        "trusted": true
      },
      "execution_count": 8,
      "outputs": []
    },
    {
      "cell_type": "code",
      "source": "X",
      "metadata": {
        "trusted": true
      },
      "execution_count": 9,
      "outputs": [
        {
          "execution_count": 9,
          "output_type": "execute_result",
          "data": {
            "text/plain": "     row.names  sbp  tobacco    ldl  adiposity  famhist  typea  obesity  \\\n0            1  160    12.00   5.73      23.11     True     49    25.30   \n1            2  144     0.01   4.41      28.61    False     55    28.87   \n2            3  118     0.08   3.48      32.28     True     52    29.14   \n3            4  170     7.50   6.41      38.03     True     51    31.99   \n4            5  134    13.60   3.50      27.78     True     60    25.99   \n..         ...  ...      ...    ...        ...      ...    ...      ...   \n457        459  214     0.40   5.98      31.72    False     64    28.45   \n458        460  182     4.20   4.41      32.10    False     52    28.61   \n459        461  108     3.00   1.59      15.23    False     40    20.09   \n460        462  118     5.40  11.61      30.79    False     64    27.35   \n461        463  132     0.00   4.82      33.41     True     62    14.70   \n\n     alcohol  \n0      97.20  \n1       2.06  \n2       3.81  \n3      24.26  \n4      57.34  \n..       ...  \n457     0.00  \n458    18.72  \n459    26.64  \n460    23.97  \n461     0.00  \n\n[462 rows x 9 columns]",
            "text/html": "<div>\n<style scoped>\n    .dataframe tbody tr th:only-of-type {\n        vertical-align: middle;\n    }\n\n    .dataframe tbody tr th {\n        vertical-align: top;\n    }\n\n    .dataframe thead th {\n        text-align: right;\n    }\n</style>\n<table border=\"1\" class=\"dataframe\">\n  <thead>\n    <tr style=\"text-align: right;\">\n      <th></th>\n      <th>row.names</th>\n      <th>sbp</th>\n      <th>tobacco</th>\n      <th>ldl</th>\n      <th>adiposity</th>\n      <th>famhist</th>\n      <th>typea</th>\n      <th>obesity</th>\n      <th>alcohol</th>\n    </tr>\n  </thead>\n  <tbody>\n    <tr>\n      <th>0</th>\n      <td>1</td>\n      <td>160</td>\n      <td>12.00</td>\n      <td>5.73</td>\n      <td>23.11</td>\n      <td>True</td>\n      <td>49</td>\n      <td>25.30</td>\n      <td>97.20</td>\n    </tr>\n    <tr>\n      <th>1</th>\n      <td>2</td>\n      <td>144</td>\n      <td>0.01</td>\n      <td>4.41</td>\n      <td>28.61</td>\n      <td>False</td>\n      <td>55</td>\n      <td>28.87</td>\n      <td>2.06</td>\n    </tr>\n    <tr>\n      <th>2</th>\n      <td>3</td>\n      <td>118</td>\n      <td>0.08</td>\n      <td>3.48</td>\n      <td>32.28</td>\n      <td>True</td>\n      <td>52</td>\n      <td>29.14</td>\n      <td>3.81</td>\n    </tr>\n    <tr>\n      <th>3</th>\n      <td>4</td>\n      <td>170</td>\n      <td>7.50</td>\n      <td>6.41</td>\n      <td>38.03</td>\n      <td>True</td>\n      <td>51</td>\n      <td>31.99</td>\n      <td>24.26</td>\n    </tr>\n    <tr>\n      <th>4</th>\n      <td>5</td>\n      <td>134</td>\n      <td>13.60</td>\n      <td>3.50</td>\n      <td>27.78</td>\n      <td>True</td>\n      <td>60</td>\n      <td>25.99</td>\n      <td>57.34</td>\n    </tr>\n    <tr>\n      <th>...</th>\n      <td>...</td>\n      <td>...</td>\n      <td>...</td>\n      <td>...</td>\n      <td>...</td>\n      <td>...</td>\n      <td>...</td>\n      <td>...</td>\n      <td>...</td>\n    </tr>\n    <tr>\n      <th>457</th>\n      <td>459</td>\n      <td>214</td>\n      <td>0.40</td>\n      <td>5.98</td>\n      <td>31.72</td>\n      <td>False</td>\n      <td>64</td>\n      <td>28.45</td>\n      <td>0.00</td>\n    </tr>\n    <tr>\n      <th>458</th>\n      <td>460</td>\n      <td>182</td>\n      <td>4.20</td>\n      <td>4.41</td>\n      <td>32.10</td>\n      <td>False</td>\n      <td>52</td>\n      <td>28.61</td>\n      <td>18.72</td>\n    </tr>\n    <tr>\n      <th>459</th>\n      <td>461</td>\n      <td>108</td>\n      <td>3.00</td>\n      <td>1.59</td>\n      <td>15.23</td>\n      <td>False</td>\n      <td>40</td>\n      <td>20.09</td>\n      <td>26.64</td>\n    </tr>\n    <tr>\n      <th>460</th>\n      <td>462</td>\n      <td>118</td>\n      <td>5.40</td>\n      <td>11.61</td>\n      <td>30.79</td>\n      <td>False</td>\n      <td>64</td>\n      <td>27.35</td>\n      <td>23.97</td>\n    </tr>\n    <tr>\n      <th>461</th>\n      <td>463</td>\n      <td>132</td>\n      <td>0.00</td>\n      <td>4.82</td>\n      <td>33.41</td>\n      <td>True</td>\n      <td>62</td>\n      <td>14.70</td>\n      <td>0.00</td>\n    </tr>\n  </tbody>\n</table>\n<p>462 rows × 9 columns</p>\n</div>"
          },
          "metadata": {}
        }
      ]
    },
    {
      "cell_type": "code",
      "source": "z=heart.iloc[:,7:10]",
      "metadata": {
        "trusted": true
      },
      "execution_count": 10,
      "outputs": []
    },
    {
      "cell_type": "code",
      "source": "piplite.install(\"itkwidgets==1.0a5\")",
      "metadata": {
        "trusted": true
      },
      "execution_count": 11,
      "outputs": [
        {
          "execution_count": 11,
          "output_type": "execute_result",
          "data": {
            "text/plain": "<Task pending name='Task-52' coro=<_PackageManager.install() running at /lib/python3.10/site-packages/piplite/piplite.py:76>>"
          },
          "metadata": {}
        }
      ]
    },
    {
      "cell_type": "code",
      "source": "from itkwidgets import view\nview(point_sets=z.to_numpy())",
      "metadata": {
        "trusted": true
      },
      "execution_count": 13,
      "outputs": [
        {
          "output_type": "display_data",
          "data": {
            "text/plain": "<IPython.core.display.Javascript object>",
            "application/javascript": "window.connectPlugin && window.connectPlugin(\"185ce1b8-ae35-40d2-8147-1303c8deb030\")"
          },
          "metadata": {}
        },
        {
          "output_type": "display_data",
          "data": {
            "text/plain": "<IPython.core.display.HTML object>",
            "text/html": "<div id=\"54a82f16-172e-42ab-aebe-fbcb9c44e907\"></div>"
          },
          "metadata": {}
        },
        {
          "execution_count": 13,
          "output_type": "execute_result",
          "data": {
            "text/plain": "<itkwidgets.viewer.Viewer at 0x3105808>"
          },
          "metadata": {}
        }
      ]
    },
    {
      "cell_type": "code",
      "source": "LR = LogisticRegression(random_state=0, solver='lbfgs', multi_class='ovr', max_iter=500).fit(X, y)",
      "metadata": {
        "trusted": true
      },
      "execution_count": 14,
      "outputs": []
    },
    {
      "cell_type": "code",
      "source": "LR.predict(X.iloc[460:,:])",
      "metadata": {
        "trusted": true
      },
      "execution_count": 15,
      "outputs": [
        {
          "execution_count": 15,
          "output_type": "execute_result",
          "data": {
            "text/plain": "array([40, 61], dtype=int64)"
          },
          "metadata": {}
        }
      ]
    },
    {
      "cell_type": "code",
      "source": "round(LR.score(X,y), 4)",
      "metadata": {
        "trusted": true
      },
      "execution_count": 16,
      "outputs": [
        {
          "execution_count": 16,
          "output_type": "execute_result",
          "data": {
            "text/plain": "0.2078"
          },
          "metadata": {}
        }
      ]
    },
    {
      "cell_type": "code",
      "source": "",
      "metadata": {
        "trusted": true
      },
      "execution_count": null,
      "outputs": []
    },
    {
      "cell_type": "code",
      "source": "",
      "metadata": {},
      "execution_count": null,
      "outputs": []
    }
  ]
}